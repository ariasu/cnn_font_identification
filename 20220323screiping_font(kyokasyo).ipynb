{
 "cells": [
  {
   "cell_type": "code",
   "execution_count": 1,
   "id": "c7790f3b",
   "metadata": {},
   "outputs": [],
   "source": [
    "import numpy as np\n",
    "from selenium import webdriver as web\n",
    "import io\n",
    "from urllib import request\n",
    "import os\n",
    "from PIL import Image\n",
    "import time\n",
    "from selenium.webdriver.common.action_chains import ActionChains\n",
    "\n",
    "from selenium.webdriver.common.by import By\n",
    "from selenium.webdriver.support.ui import WebDriverWait\n",
    "from selenium.webdriver.support import expected_conditions as EC"
   ]
  },
  {
   "cell_type": "code",
   "execution_count": 3,
   "id": "17430e79",
   "metadata": {},
   "outputs": [
    {
     "name": "stdout",
     "output_type": "stream",
     "text": [
      "D:\\application\\OneDrive\\デスクトップ\\AnaChro\n"
     ]
    }
   ],
   "source": [
    "file = r'D:\\application\\OneDrive\\デスクトップ\\AnaChro'\n",
    "os.chdir(file)  # 相対パス\n",
    "print(os.getcwd())\n",
    "\n",
    "driver = web.Chrome('./chromedriver')\n",
    "url = 'https://www.syotai.net/kyokasho/'\n",
    "driver.get(url)"
   ]
  },
  {
   "cell_type": "code",
   "execution_count": 10,
   "id": "ca63b1b5",
   "metadata": {},
   "outputs": [
    {
     "name": "stdout",
     "output_type": "stream",
     "text": [
      "D:\\application\\OneDrive\\デスクトップ\\AnaChro\\cnn_font_jpeg\\kyokasyo\n"
     ]
    }
   ],
   "source": [
    "file = r'D:\\application\\OneDrive\\デスクトップ\\AnaChro\\cnn_font_jpeg\\kyokasyo'\n",
    "os.chdir(file)  # 相対パス\n",
    "print(os.getcwd())"
   ]
  },
  {
   "cell_type": "code",
   "execution_count": 4,
   "id": "e91e173b",
   "metadata": {},
   "outputs": [],
   "source": [
    "imgs = []\n",
    "i = 1\n",
    "\n",
    "for v in range(2,45):\n",
    "    i = 1\n",
    "    try:\n",
    "        while(i < 100):\n",
    "            a = '/html/body/div[1]/div[2]/div/main/article/div/p[{0}]/a[{1}]/img'.format(v,i)\n",
    "            yes = driver.find_element_by_xpath(a)\n",
    "            ActionChains(driver).move_to_element(yes).perform()# 要素を表示するようスクロール\n",
    "            img = yes.get_attribute('src')\n",
    "            imgs.append(img)\n",
    "            i += 1\n",
    "    except Exception:\n",
    "        pass"
   ]
  },
  {
   "cell_type": "code",
   "execution_count": null,
   "id": "9bc204fd",
   "metadata": {},
   "outputs": [],
   "source": [
    "c = 0\n",
    "\n",
    "for img in imgs:\n",
    "    \n",
    "    f = io.BytesIO(request.urlopen(img).read())\n",
    "    img_open = Image.open(f)\n",
    "    img_open.save('kyokasyo' + str(c) + '.gif')\n",
    "    c += 1"
   ]
  },
  {
   "cell_type": "code",
   "execution_count": 5,
   "id": "0144cf1f",
   "metadata": {},
   "outputs": [
    {
     "name": "stdout",
     "output_type": "stream",
     "text": [
      "1770\n",
      "https://www.syotai.net/img/kyokasho1604.gif\n"
     ]
    }
   ],
   "source": [
    "print(len(imgs))\n",
    "print(imgs[1237])"
   ]
  }
 ],
 "metadata": {
  "kernelspec": {
   "display_name": "Python 3 (ipykernel)",
   "language": "python",
   "name": "python3"
  },
  "language_info": {
   "codemirror_mode": {
    "name": "ipython",
    "version": 3
   },
   "file_extension": ".py",
   "mimetype": "text/x-python",
   "name": "python",
   "nbconvert_exporter": "python",
   "pygments_lexer": "ipython3",
   "version": "3.9.7"
  }
 },
 "nbformat": 4,
 "nbformat_minor": 5
}
